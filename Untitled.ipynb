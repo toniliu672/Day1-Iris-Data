{
 "cells": [
  {
   "cell_type": "code",
   "execution_count": 1,
   "id": "cf06b42b-f8ee-4039-8df1-7fc8ffc02606",
   "metadata": {},
   "outputs": [],
   "source": [
    "import pandas as pd\n",
    "import numpy as np\n",
    "from sklearn.datasets import load_iris\n",
    "from sklearn.model_selection import train_test_split\n",
    "from sklearn.preprocessing import StandardScaler\n",
    "import seaborn as sns\n",
    "import matplotlib.pyplot as plt\n",
    "\n",
    "# Load and prepare the dataset\n",
    "iris = load_iris()\n",
    "data = pd.DataFrame(data=np.c_[iris['data'], iris['target']], \n",
    "                   columns=iris['feature_names'] + ['target'])\n"
   ]
  },
  {
   "cell_type": "code",
   "execution_count": 2,
   "id": "305ee04e-8298-4d7e-a3bc-58cd426caad0",
   "metadata": {},
   "outputs": [],
   "source": [
    "# Basic data exploration\n",
    "def explore_dataset():\n",
    "    print(\"Dataset Shape:\", data.shape)\n",
    "    print(\"\\nFirst few rows:\")\n",
    "    print(data.head())\n",
    "    print(\"\\nDataset Information:\")\n",
    "    print(data.info())\n",
    "    print(\"\\nBasic Statistics:\")\n",
    "    print(data.describe())\n",
    "    print(\"\\nClass Distribution:\")\n",
    "    print(data['target'].value_counts())\n",
    "    \n",
    "    # Check for missing values\n",
    "    print(\"\\nMissing Values:\")\n",
    "    print(data.isnull().sum())"
   ]
  },
  {
   "cell_type": "code",
   "execution_count": 3,
   "id": "3b9b5686-033a-47af-a72e-5e330344affb",
   "metadata": {},
   "outputs": [],
   "source": [
    "# Data preprocessing\n",
    "def preprocess_data():\n",
    "    # Separate features and target\n",
    "    X = data.drop('target', axis=1)\n",
    "    y = data['target']\n",
    "    \n",
    "    # Split the data\n",
    "    X_train, X_test, y_train, y_test = train_test_split(\n",
    "        X, y, test_size=0.2, random_state=42, stratify=y\n",
    "    )\n",
    "    \n",
    "    # Scale the features\n",
    "    scaler = StandardScaler()\n",
    "    X_train_scaled = scaler.fit_transform(X_train)\n",
    "    X_test_scaled = scaler.transform(X_test)\n",
    "    \n",
    "    return X_train_scaled, X_test_scaled, y_train, y_test, scaler\n"
   ]
  },
  {
   "cell_type": "code",
   "execution_count": 4,
   "id": "aa9ada16-9df2-478d-8d68-c02c3cb6b5fe",
   "metadata": {},
   "outputs": [],
   "source": [
    "# Visualization functions\n",
    "def create_visualizations():\n",
    "    # Pairplot\n",
    "    plt.figure(figsize=(10, 6))\n",
    "    sns.pairplot(data, hue='target')\n",
    "    plt.savefig('pairplot.png')\n",
    "    plt.close()\n",
    "    \n",
    "    # Correlation matrix\n",
    "    plt.figure(figsize=(8, 6))\n",
    "    sns.heatmap(data.corr(), annot=True, cmap='coolwarm')\n",
    "    plt.title('Feature Correlation Matrix')\n",
    "    plt.savefig('correlation_matrix.png')\n",
    "    plt.close()"
   ]
  },
  {
   "cell_type": "code",
   "execution_count": 5,
   "id": "9ec6a3c4-0d66-480a-bd12-913af3348373",
   "metadata": {},
   "outputs": [
    {
     "name": "stdout",
     "output_type": "stream",
     "text": [
      "Dataset Shape: (150, 5)\n",
      "\n",
      "First few rows:\n",
      "   sepal length (cm)  sepal width (cm)  petal length (cm)  petal width (cm)  \\\n",
      "0                5.1               3.5                1.4               0.2   \n",
      "1                4.9               3.0                1.4               0.2   \n",
      "2                4.7               3.2                1.3               0.2   \n",
      "3                4.6               3.1                1.5               0.2   \n",
      "4                5.0               3.6                1.4               0.2   \n",
      "\n",
      "   target  \n",
      "0     0.0  \n",
      "1     0.0  \n",
      "2     0.0  \n",
      "3     0.0  \n",
      "4     0.0  \n",
      "\n",
      "Dataset Information:\n",
      "<class 'pandas.core.frame.DataFrame'>\n",
      "RangeIndex: 150 entries, 0 to 149\n",
      "Data columns (total 5 columns):\n",
      " #   Column             Non-Null Count  Dtype  \n",
      "---  ------             --------------  -----  \n",
      " 0   sepal length (cm)  150 non-null    float64\n",
      " 1   sepal width (cm)   150 non-null    float64\n",
      " 2   petal length (cm)  150 non-null    float64\n",
      " 3   petal width (cm)   150 non-null    float64\n",
      " 4   target             150 non-null    float64\n",
      "dtypes: float64(5)\n",
      "memory usage: 6.0 KB\n",
      "None\n",
      "\n",
      "Basic Statistics:\n",
      "       sepal length (cm)  sepal width (cm)  petal length (cm)  \\\n",
      "count         150.000000        150.000000         150.000000   \n",
      "mean            5.843333          3.057333           3.758000   \n",
      "std             0.828066          0.435866           1.765298   \n",
      "min             4.300000          2.000000           1.000000   \n",
      "25%             5.100000          2.800000           1.600000   \n",
      "50%             5.800000          3.000000           4.350000   \n",
      "75%             6.400000          3.300000           5.100000   \n",
      "max             7.900000          4.400000           6.900000   \n",
      "\n",
      "       petal width (cm)      target  \n",
      "count        150.000000  150.000000  \n",
      "mean           1.199333    1.000000  \n",
      "std            0.762238    0.819232  \n",
      "min            0.100000    0.000000  \n",
      "25%            0.300000    0.000000  \n",
      "50%            1.300000    1.000000  \n",
      "75%            1.800000    2.000000  \n",
      "max            2.500000    2.000000  \n",
      "\n",
      "Class Distribution:\n",
      "target\n",
      "0.0    50\n",
      "1.0    50\n",
      "2.0    50\n",
      "Name: count, dtype: int64\n",
      "\n",
      "Missing Values:\n",
      "sepal length (cm)    0\n",
      "sepal width (cm)     0\n",
      "petal length (cm)    0\n",
      "petal width (cm)     0\n",
      "target               0\n",
      "dtype: int64\n"
     ]
    },
    {
     "data": {
      "text/plain": [
       "<Figure size 1000x600 with 0 Axes>"
      ]
     },
     "metadata": {},
     "output_type": "display_data"
    }
   ],
   "source": [
    "if __name__ == \"__main__\":\n",
    "    # Explore the dataset\n",
    "    explore_dataset()\n",
    "    \n",
    "    # Create visualizations\n",
    "    create_visualizations()\n",
    "    \n",
    "    # Preprocess the data\n",
    "    X_train_scaled, X_test_scaled, y_train, y_test, scaler = preprocess_data()\n",
    "    \n",
    "    # Save preprocessed data\n",
    "    np.save('X_train_scaled.npy', X_train_scaled)\n",
    "    np.save('X_test_scaled.npy', X_test_scaled)\n",
    "    np.save('y_train.npy', y_train)\n",
    "    np.save('y_test.npy', y_test)"
   ]
  },
  {
   "cell_type": "code",
   "execution_count": null,
   "id": "f6fca35a-eaa5-4223-b532-357587d37f7d",
   "metadata": {},
   "outputs": [],
   "source": []
  }
 ],
 "metadata": {
  "kernelspec": {
   "display_name": "Python 3 (ipykernel)",
   "language": "python",
   "name": "python3"
  },
  "language_info": {
   "codemirror_mode": {
    "name": "ipython",
    "version": 3
   },
   "file_extension": ".py",
   "mimetype": "text/x-python",
   "name": "python",
   "nbconvert_exporter": "python",
   "pygments_lexer": "ipython3",
   "version": "3.12.4"
  }
 },
 "nbformat": 4,
 "nbformat_minor": 5
}
